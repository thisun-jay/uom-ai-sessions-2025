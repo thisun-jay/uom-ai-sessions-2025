{
 "cells": [
  {
   "cell_type": "code",
   "execution_count": 1,
   "id": "c60a77a7",
   "metadata": {},
   "outputs": [
    {
     "name": "stdout",
     "output_type": "stream",
     "text": [
      "233168\n"
     ]
    }
   ],
   "source": [
    "#question 01\n",
    "def muliples_of_3_and_5(n):\n",
    "    return sum(i for i in range(n) if i % 3 == 0 or i % 5 == 0)\n",
    "\n",
    "print(muliples_of_3_and_5(1000))\n"
   ]
  },
  {
   "cell_type": "code",
   "execution_count": 2,
   "id": "93f1adcf",
   "metadata": {},
   "outputs": [
    {
     "name": "stdout",
     "output_type": "stream",
     "text": [
      "4613732\n"
     ]
    }
   ],
   "source": [
    "#question 02\n",
    "def fibonacci_even_sum(n):\n",
    "    a, b = 0, 1\n",
    "    total = 0\n",
    "    while b < n:\n",
    "        if b % 2 == 0:\n",
    "            total += b\n",
    "        a, b = b, a + b\n",
    "    return total    \n",
    "\n",
    "print(fibonacci_even_sum(4000000))\n"
   ]
  },
  {
   "cell_type": "code",
   "execution_count": 3,
   "id": "d7b9f55a",
   "metadata": {},
   "outputs": [
    {
     "name": "stdout",
     "output_type": "stream",
     "text": [
      "6857\n"
     ]
    }
   ],
   "source": [
    "#question 03\n",
    "def largest_prime_factor(n):\n",
    "    i = 2\n",
    "    while i * i <= n:\n",
    "        if n % i:\n",
    "            i += 1\n",
    "        else:\n",
    "            n //= i\n",
    "    return n\n",
    "\n",
    "print(largest_prime_factor(600851475143))\n"
   ]
  },
  {
   "cell_type": "code",
   "execution_count": 4,
   "id": "5241bf66",
   "metadata": {},
   "outputs": [
    {
     "name": "stdout",
     "output_type": "stream",
     "text": [
      "906609\n"
     ]
    }
   ],
   "source": [
    "#question 04\n",
    "def is_palindrome(num):\n",
    "    return str(num) == str(num)[::-1]\n",
    "def largest_palindrome_product(n):\n",
    "    max_palindrome = 0\n",
    "    for i in range(10**(n-1), 10**n):\n",
    "        for j in range(i, 10**n):\n",
    "            product = i * j\n",
    "            if is_palindrome(product) and product > max_palindrome:\n",
    "                max_palindrome = product\n",
    "    return max_palindrome\n",
    "print(largest_palindrome_product(3))\n"
   ]
  },
  {
   "cell_type": "code",
   "execution_count": 5,
   "id": "2357e7de",
   "metadata": {},
   "outputs": [
    {
     "name": "stdout",
     "output_type": "stream",
     "text": [
      "232792560\n"
     ]
    }
   ],
   "source": [
    "#question 05\n",
    "def smallest_multiple(n):\n",
    "    def gcd(a, b):\n",
    "        while b:\n",
    "            a, b = b, a % b\n",
    "        return a\n",
    "    def lcm(a, b):\n",
    "        return a * b // gcd(a, b)\n",
    "    multiple = 1\n",
    "    for i in range(2, n + 1):\n",
    "        multiple = lcm(multiple, i)\n",
    "    return multiple\n",
    "print(smallest_multiple(20))\n"
   ]
  },
  {
   "cell_type": "code",
   "execution_count": 6,
   "id": "e81a23b0",
   "metadata": {},
   "outputs": [
    {
     "name": "stdout",
     "output_type": "stream",
     "text": [
      "25164150\n"
     ]
    }
   ],
   "source": [
    "#question 06\n",
    "def sum_square_difference(n):\n",
    "    sum_of_squares = sum(i**2 for i in range(1, n + 1))\n",
    "    square_of_sum = sum(range(1, n + 1))**2\n",
    "    return square_of_sum - sum_of_squares\n",
    "print(sum_square_difference(100))\n"
   ]
  },
  {
   "cell_type": "code",
   "execution_count": 7,
   "id": "c36b6466",
   "metadata": {},
   "outputs": [
    {
     "name": "stdout",
     "output_type": "stream",
     "text": [
      "104743\n"
     ]
    }
   ],
   "source": [
    "#question 07\n",
    "def nth_prime(n):\n",
    "    count = 0\n",
    "    num = 1\n",
    "    while count < n:\n",
    "        num += 1\n",
    "        for i in range(2, int(num**0.5) + 1):\n",
    "            if num % i == 0:\n",
    "                break\n",
    "        else:\n",
    "            count += 1\n",
    "    return num\n",
    "print(nth_prime(10001))\n"
   ]
  },
  {
   "cell_type": "code",
   "execution_count": 9,
   "id": "eb1b602e",
   "metadata": {},
   "outputs": [
    {
     "name": "stdout",
     "output_type": "stream",
     "text": [
      "23514624000\n"
     ]
    }
   ],
   "source": [
    "#question 08\n",
    "def largest_product_in_series(series, n):\n",
    "    max_product = 0\n",
    "    for i in range(len(series) - n + 1):\n",
    "        product = 1\n",
    "        for j in range(n):\n",
    "            product *= int(series[i + j])\n",
    "        if product > max_product:\n",
    "            max_product = product\n",
    "    return max_product\n",
    "series = (\n",
    "    \"73167176531330624919225119674426574742355349194934\"\n",
    "    \"96983520312774506326239578318016984801869478851843\"\n",
    "    \"85861560789112949495459501737958331952853208805511\"\n",
    "    \"12540698747158523863050715693290963295227443043557\"\n",
    "    \"66896648950445244523161731856403098711121722383113\"\n",
    "    \"62229893423380308135336276614282806444486645238749\"\n",
    "    \"30358907296290491560440772390713810515859307960866\"\n",
    "    \"70172427121883998797908792274921901699720888093776\"\n",
    "    \"65727333001053367881220235421809751254540594752243\"\n",
    "    \"52584907711670556013604839586446706324415722155397\"\n",
    "    \"53697817977846174064955149290862569321978468622482\"\n",
    "    \"83972241375657056057490261407972968652414535100474\"\n",
    "    \"82166370484403199890008895243450658541227588666881\"\n",
    "    \"16427171479924442928230863465674813919123162824586\"\n",
    "    \"17866458359124566529476545682848912883142607690042\"\n",
    "    \"24219022671055626321111109370544217506941658960408\"\n",
    "    \"07198403850962455444362981230987879927244284909188\"\n",
    "    \"84580156166097919133875499200524063689912560717606\"\n",
    "    \"05886116467109405077541002256983155200055935729725\"\n",
    "    \"71636269561882670428252483600823257530420752963450\"\n",
    ")\n",
    "print(largest_product_in_series(series, 13))\n",
    "       "
   ]
  },
  {
   "cell_type": "code",
   "execution_count": 10,
   "id": "346f9006",
   "metadata": {},
   "outputs": [
    {
     "name": "stdout",
     "output_type": "stream",
     "text": [
      "31875000\n"
     ]
    }
   ],
   "source": [
    "#question 09\n",
    "def special_pythagorean_triplet(n):\n",
    "    for a in range(1, n):\n",
    "        for b in range(a, n - a):\n",
    "            c = n - a - b\n",
    "            if a**2 + b**2 == c**2:\n",
    "                return a * b * c\n",
    "print(special_pythagorean_triplet(1000))\n"
   ]
  },
  {
   "cell_type": "code",
   "execution_count": 11,
   "id": "4ce76d4b",
   "metadata": {},
   "outputs": [
    {
     "name": "stdout",
     "output_type": "stream",
     "text": [
      "142913828922\n"
     ]
    }
   ],
   "source": [
    "#question 10\n",
    "def sum_of_primes(n):\n",
    "    sieve = [True] * n\n",
    "    sieve[0] = sieve[1] = False\n",
    "    for i in range(2, int(n**0.5) + 1):\n",
    "        if sieve[i]:\n",
    "            for j in range(i*i, n, i):\n",
    "                sieve[j] = False\n",
    "    return sum(i for i, prime in enumerate(sieve) if prime)\n",
    "print(sum_of_primes(2000000))\n"
   ]
  }
 ],
 "metadata": {
  "kernelspec": {
   "display_name": "Python 3",
   "language": "python",
   "name": "python3"
  },
  "language_info": {
   "codemirror_mode": {
    "name": "ipython",
    "version": 3
   },
   "file_extension": ".py",
   "mimetype": "text/x-python",
   "name": "python",
   "nbconvert_exporter": "python",
   "pygments_lexer": "ipython3",
   "version": "3.13.1"
  }
 },
 "nbformat": 4,
 "nbformat_minor": 5
}
