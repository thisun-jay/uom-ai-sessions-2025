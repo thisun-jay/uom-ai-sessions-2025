{
 "cells": [
  {
   "cell_type": "code",
   "execution_count": 1,
   "id": "c60a77a7",
   "metadata": {},
   "outputs": [
    {
     "name": "stdout",
     "output_type": "stream",
     "text": [
      "233168\n"
     ]
    }
   ],
   "source": [
    "#question 01\n",
    "def muliples_of_3_and_5(n):\n",
    "    return sum(i for i in range(n) if i % 3 == 0 or i % 5 == 0)\n",
    "\n",
    "print(muliples_of_3_and_5(1000))\n"
   ]
  }
 ],
 "metadata": {
  "kernelspec": {
   "display_name": "Python 3",
   "language": "python",
   "name": "python3"
  },
  "language_info": {
   "codemirror_mode": {
    "name": "ipython",
    "version": 3
   },
   "file_extension": ".py",
   "mimetype": "text/x-python",
   "name": "python",
   "nbconvert_exporter": "python",
   "pygments_lexer": "ipython3",
   "version": "3.13.1"
  }
 },
 "nbformat": 4,
 "nbformat_minor": 5
}
